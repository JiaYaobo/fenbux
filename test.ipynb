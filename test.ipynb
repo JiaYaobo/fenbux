{
 "cells": [
  {
   "cell_type": "code",
   "execution_count": 1,
   "metadata": {},
   "outputs": [],
   "source": [
    "import jax.tree_util as jtu\n",
    "import equinox as eqx\n",
    "import jax.numpy as jnp\n",
    "import fenbux as fb"
   ]
  },
  {
   "cell_type": "code",
   "execution_count": 2,
   "metadata": {},
   "outputs": [],
   "source": [
    "x = {'a': {'c': jnp.zeros(1), 'd': jnp.zeros((1))}, 'b': jnp.zeros((1))}\n",
    "y = {'a': {'c': jnp.ones(10), 'd': jnp.ones((10, 2))}, 'b': jnp.ones((10, 3))}"
   ]
  },
  {
   "cell_type": "code",
   "execution_count": 7,
   "metadata": {},
   "outputs": [
    {
     "data": {
      "text/plain": [
       "{'a': {'c': {'d': {'e': Array(0., dtype=float32)}}}}"
      ]
     },
     "execution_count": 7,
     "metadata": {},
     "output_type": "execute_result"
    }
   ],
   "source": [
    "from fenbux import Normal, variance, skewness\n",
    "\n",
    "x = {'a': {'c': {'d': {'e': 1.}}}}\n",
    "y = {'a': {'c': {'d': {'e': 1.}}}}\n",
    "\n",
    "dist = Normal(x, y)\n",
    "variance(dist) \n",
    "skewness(dist) "
   ]
  },
  {
   "cell_type": "code",
   "execution_count": 8,
   "metadata": {},
   "outputs": [
    {
     "ename": "SyntaxError",
     "evalue": "invalid syntax (284997463.py, line 5)",
     "output_type": "error",
     "traceback": [
      "\u001b[0;36m  Cell \u001b[0;32mIn[8], line 5\u001b[0;36m\u001b[0m\n\u001b[0;31m    x = {'a': {'c': 'd': 'e': 1.}}\u001b[0m\n\u001b[0m                       ^\u001b[0m\n\u001b[0;31mSyntaxError\u001b[0m\u001b[0;31m:\u001b[0m invalid syntax\n"
     ]
    }
   ],
   "source": [
    "import jax.random as jr\n",
    "from fenbux import Normal, rand\n",
    "\n",
    "key =  jr.PRNGKey(0)\n",
    "x = {'a': {'c': {'d': {'e': 1.}}}}\n",
    "y = {'a': {'c': {'d': {'e': 1.}}}}\n",
    "\n",
    "dist = Normal(x, y)\n",
    "rand(dist, key) # {'a': {'c': {'d': {'e': Array(1.6234174, dtype=float32)}}}}"
   ]
  },
  {
   "cell_type": "code",
   "execution_count": 5,
   "metadata": {},
   "outputs": [
    {
     "data": {
      "text/plain": [
       "{'a': {'c': Array([1.+0.j, 1.+0.j, 1.+0.j, 1.+0.j, 1.+0.j, 1.+0.j, 1.+0.j, 1.+0.j,\n",
       "         1.+0.j, 1.+0.j], dtype=complex64),\n",
       "  'd': Array([[1.+0.j, 1.+0.j],\n",
       "         [1.+0.j, 1.+0.j],\n",
       "         [1.+0.j, 1.+0.j],\n",
       "         [1.+0.j, 1.+0.j],\n",
       "         [1.+0.j, 1.+0.j],\n",
       "         [1.+0.j, 1.+0.j],\n",
       "         [1.+0.j, 1.+0.j],\n",
       "         [1.+0.j, 1.+0.j],\n",
       "         [1.+0.j, 1.+0.j],\n",
       "         [1.+0.j, 1.+0.j]], dtype=complex64)},\n",
       " 'b': Array([[1.+0.j, 1.+0.j, 1.+0.j],\n",
       "        [1.+0.j, 1.+0.j, 1.+0.j],\n",
       "        [1.+0.j, 1.+0.j, 1.+0.j],\n",
       "        [1.+0.j, 1.+0.j, 1.+0.j],\n",
       "        [1.+0.j, 1.+0.j, 1.+0.j],\n",
       "        [1.+0.j, 1.+0.j, 1.+0.j],\n",
       "        [1.+0.j, 1.+0.j, 1.+0.j],\n",
       "        [1.+0.j, 1.+0.j, 1.+0.j],\n",
       "        [1.+0.j, 1.+0.j, 1.+0.j],\n",
       "        [1.+0.j, 1.+0.j, 1.+0.j]], dtype=complex64)}"
      ]
     },
     "execution_count": 5,
     "metadata": {},
     "output_type": "execute_result"
    }
   ],
   "source": [
    "fb.cf(n, 0.)"
   ]
  },
  {
   "cell_type": "code",
   "execution_count": 21,
   "metadata": {},
   "outputs": [],
   "source": [
    "def f(x, y):\n",
    "    return x.lower[0] + y"
   ]
  },
  {
   "cell_type": "code",
   "execution_count": 27,
   "metadata": {},
   "outputs": [],
   "source": [
    "import jax"
   ]
  },
  {
   "cell_type": "code",
   "execution_count": 48,
   "metadata": {},
   "outputs": [],
   "source": [
    "import scipy"
   ]
  },
  {
   "cell_type": "code",
   "execution_count": 62,
   "metadata": {},
   "outputs": [
    {
     "data": {
      "text/plain": [
       "1.0"
      ]
     },
     "execution_count": 62,
     "metadata": {},
     "output_type": "execute_result"
    }
   ],
   "source": [
    "scipy.stats.bernoulli(0.6).cdf(1.)"
   ]
  },
  {
   "cell_type": "code",
   "execution_count": 28,
   "metadata": {},
   "outputs": [],
   "source": [
    "foo_p = jax.core.Primitive(\"foo\")"
   ]
  },
  {
   "cell_type": "code",
   "execution_count": null,
   "metadata": {},
   "outputs": [],
   "source": [
    "jax.interpreters.mlir"
   ]
  },
  {
   "cell_type": "code",
   "execution_count": 35,
   "metadata": {},
   "outputs": [],
   "source": [
    "from jax.interpreters import mlir\n",
    "from jax.interpreters import ad, batching"
   ]
  },
  {
   "cell_type": "code",
   "execution_count": 39,
   "metadata": {},
   "outputs": [],
   "source": [
    "foo_p.def_impl(lambda x: x)\n",
    "foo_p.def_abstract_eval(lambda x: x)\n",
    "ad.defjvp(foo_p, lambda g, x: g)\n",
    "mlir.register_lowering(\n",
    "    foo_p, mlir.lower_fun(lambda x: x, multiple_results=False)\n",
    ")\n",
    "def foo(x):\n",
    "    return foo_p.bind(2 * x)"
   ]
  },
  {
   "cell_type": "code",
   "execution_count": 47,
   "metadata": {},
   "outputs": [
    {
     "data": {
      "text/plain": [
       "{1, 2}"
      ]
     },
     "execution_count": 47,
     "metadata": {},
     "output_type": "execute_result"
    }
   ],
   "source": [
    "{1, 2}"
   ]
  },
  {
   "cell_type": "code",
   "execution_count": 41,
   "metadata": {},
   "outputs": [
    {
     "ename": "NotImplementedError",
     "evalue": "Batching rule for 'foo' not implemented",
     "output_type": "error",
     "traceback": [
      "\u001b[0;31m---------------------------------------------------------------------------\u001b[0m",
      "\u001b[0;31mNotImplementedError\u001b[0m                       Traceback (most recent call last)",
      "Cell \u001b[0;32mIn[41], line 1\u001b[0m\n\u001b[0;32m----> 1\u001b[0m jax\u001b[39m.\u001b[39;49mvmap(foo)(jnp\u001b[39m.\u001b[39;49mones(\u001b[39m10\u001b[39;49m))\n",
      "    \u001b[0;31m[... skipping hidden 3 frame]\u001b[0m\n",
      "Cell \u001b[0;32mIn[39], line 8\u001b[0m, in \u001b[0;36mfoo\u001b[0;34m(x)\u001b[0m\n\u001b[1;32m      7\u001b[0m \u001b[39mdef\u001b[39;00m \u001b[39mfoo\u001b[39m(x):\n\u001b[0;32m----> 8\u001b[0m     \u001b[39mreturn\u001b[39;00m foo_p\u001b[39m.\u001b[39;49mbind(\u001b[39m2\u001b[39;49m \u001b[39m*\u001b[39;49m x)\n",
      "    \u001b[0;31m[... skipping hidden 3 frame]\u001b[0m\n",
      "File \u001b[0;32m/opt/miniconda3/envs/fenbux/lib/python3.11/site-packages/jax/_src/interpreters/batching.py:334\u001b[0m, in \u001b[0;36mBatchTrace.get_primitive_batcher\u001b[0;34m(self, primitive, frame)\u001b[0m\n\u001b[1;32m    332\u001b[0m   \u001b[39mreturn\u001b[39;00m \u001b[39mself\u001b[39m\u001b[39m.\u001b[39mget_axis_primitive_batcher(primitive, frame)\n\u001b[1;32m    333\u001b[0m msg \u001b[39m=\u001b[39m \u001b[39m\"\u001b[39m\u001b[39mBatching rule for \u001b[39m\u001b[39m'\u001b[39m\u001b[39m{}\u001b[39;00m\u001b[39m'\u001b[39m\u001b[39m not implemented\u001b[39m\u001b[39m\"\u001b[39m\n\u001b[0;32m--> 334\u001b[0m \u001b[39mraise\u001b[39;00m \u001b[39mNotImplementedError\u001b[39;00m(msg\u001b[39m.\u001b[39mformat(primitive))\n",
      "\u001b[0;31mNotImplementedError\u001b[0m: Batching rule for 'foo' not implemented"
     ]
    }
   ],
   "source": [
    " "
   ]
  },
  {
   "cell_type": "code",
   "execution_count": 15,
   "metadata": {},
   "outputs": [
    {
     "ename": "ValueError",
     "evalue": "The following `in_axes` did not correspond to any argument: ('_mean',)",
     "output_type": "error",
     "traceback": [
      "\u001b[0;31m---------------------------------------------------------------------------\u001b[0m",
      "\u001b[0;31mValueError\u001b[0m                                Traceback (most recent call last)",
      "Cell \u001b[0;32mIn[15], line 1\u001b[0m\n\u001b[0;32m----> 1\u001b[0m eqx\u001b[39m.\u001b[39;49mfilter_vmap(\u001b[39mlambda\u001b[39;49;00m x: x, in_axes\u001b[39m=\u001b[39;49m{\u001b[39m'\u001b[39;49m\u001b[39m_mean\u001b[39;49m\u001b[39m'\u001b[39;49m: \u001b[39m0\u001b[39;49m})(n)\n",
      "File \u001b[0;32m/opt/miniconda3/envs/fenbux/lib/python3.11/site-packages/equinox/_vmap_pmap.py:163\u001b[0m, in \u001b[0;36m_VmapWrapper.__call__\u001b[0;34m(***failed resolving arguments***)\u001b[0m\n\u001b[1;32m    157\u001b[0m     \u001b[39mraise\u001b[39;00m \u001b[39mRuntimeError\u001b[39;00m(\n\u001b[1;32m    158\u001b[0m         \u001b[39m\"\u001b[39m\u001b[39mkeyword arguments cannot be used with functions wrapped with \u001b[39m\u001b[39m\"\u001b[39m\n\u001b[1;32m    159\u001b[0m         \u001b[39m\"\u001b[39m\u001b[39m`filter_vmap`\u001b[39m\u001b[39m\"\u001b[39m\n\u001b[1;32m    160\u001b[0m     )\n\u001b[1;32m    161\u001b[0m \u001b[39mdel\u001b[39;00m kwargs\n\u001b[0;32m--> 163\u001b[0m in_axes \u001b[39m=\u001b[39m _named_in_axes(\u001b[39mself\u001b[39;49m\u001b[39m.\u001b[39;49m_fun, \u001b[39mself\u001b[39;49m\u001b[39m.\u001b[39;49m_in_axes, args)\n\u001b[1;32m    165\u001b[0m \u001b[39m# JAX only actually supports passing array-typed values as inputs.\u001b[39;00m\n\u001b[1;32m    166\u001b[0m \u001b[39m# Interestingly it's usually still fine to pass non-array-typed values as\u001b[39;00m\n\u001b[1;32m    167\u001b[0m \u001b[39m# broadcast inputs. *Unless* you mess up with an inconsistent axis size, in\u001b[39;00m\n\u001b[0;32m   (...)\u001b[0m\n\u001b[1;32m    173\u001b[0m \u001b[39m#          in_axes=(0, 0, None))(jnp.arange(3), jnp.arange(5), object())\u001b[39;00m\n\u001b[1;32m    174\u001b[0m \u001b[39m# ```\u001b[39;00m\n\u001b[1;32m    175\u001b[0m in_axes \u001b[39m=\u001b[39m _resolve_axes(args, in_axes)\n",
      "File \u001b[0;32m/opt/miniconda3/envs/fenbux/lib/python3.11/site-packages/equinox/_vmap_pmap.py:124\u001b[0m, in \u001b[0;36m_named_in_axes\u001b[0;34m(fun, in_axes, args)\u001b[0m\n\u001b[1;32m    122\u001b[0m     new_in_axes\u001b[39m.\u001b[39mappend(in_axes\u001b[39m.\u001b[39mpop(param_name, default))\n\u001b[1;32m    123\u001b[0m \u001b[39mif\u001b[39;00m \u001b[39mlen\u001b[39m(in_axes) \u001b[39m!=\u001b[39m \u001b[39m0\u001b[39m:\n\u001b[0;32m--> 124\u001b[0m     \u001b[39mraise\u001b[39;00m \u001b[39mValueError\u001b[39;00m(\n\u001b[1;32m    125\u001b[0m         \u001b[39m\"\u001b[39m\u001b[39mThe following `in_axes` did not correspond to any argument: \u001b[39m\u001b[39m\"\u001b[39m\n\u001b[1;32m    126\u001b[0m         \u001b[39mf\u001b[39m\u001b[39m\"\u001b[39m\u001b[39m{\u001b[39;00m\u001b[39mtuple\u001b[39m(in_axes\u001b[39m.\u001b[39mkeys())\u001b[39m}\u001b[39;00m\u001b[39m\"\u001b[39m\n\u001b[1;32m    127\u001b[0m     )\n\u001b[1;32m    128\u001b[0m \u001b[39m# Note that this requires all named arguments to be passed; they cannot take\u001b[39;00m\n\u001b[1;32m    129\u001b[0m \u001b[39m# default values. That is, we deliberately don't allow something like\u001b[39;00m\n\u001b[1;32m    130\u001b[0m \u001b[39m# ```python\u001b[39;00m\n\u001b[0;32m   (...)\u001b[0m\n\u001b[1;32m    137\u001b[0m \u001b[39m# This is because it is ambiguous whether the default value is vectorised or\u001b[39;00m\n\u001b[1;32m    138\u001b[0m \u001b[39m# not.\u001b[39;00m\n\u001b[1;32m    139\u001b[0m in_axes \u001b[39m=\u001b[39m \u001b[39mtuple\u001b[39m(new_in_axes)\n",
      "\u001b[0;31mValueError\u001b[0m: The following `in_axes` did not correspond to any argument: ('_mean',)"
     ]
    }
   ],
   "source": [
    "eqx.filter_vmap(lambda x: x, in_axes={'_mean': 0})(n)"
   ]
  },
  {
   "cell_type": "code",
   "execution_count": 20,
   "metadata": {},
   "outputs": [],
   "source": [
    "import jax"
   ]
  },
  {
   "cell_type": "code",
   "execution_count": null,
   "metadata": {},
   "outputs": [],
   "source": [
    "eqx.internal.nondifferentiable_backward"
   ]
  },
  {
   "cell_type": "code",
   "execution_count": null,
   "metadata": {},
   "outputs": [],
   "source": [
    "jax.scipy.special.gammainc"
   ]
  },
  {
   "cell_type": "code",
   "execution_count": 9,
   "metadata": {},
   "outputs": [
    {
     "data": {
      "text/plain": [
       "Array([[0., 0.],\n",
       "       [0., 0.],\n",
       "       [0., 0.],\n",
       "       [0., 0.],\n",
       "       [0., 0.],\n",
       "       [0., 0.],\n",
       "       [0., 0.],\n",
       "       [0., 0.],\n",
       "       [0., 0.],\n",
       "       [0., 0.]], dtype=float32)"
      ]
     },
     "execution_count": 9,
     "metadata": {},
     "output_type": "execute_result"
    }
   ],
   "source": [
    "fb.cdf(n, jnp.zeros((10, 2)))"
   ]
  },
  {
   "cell_type": "code",
   "execution_count": 11,
   "metadata": {},
   "outputs": [
    {
     "data": {
      "text/plain": [
       "{'a': {'c': ParamShape(shape=(10,)), 'd': ParamShape(shape=(10, 2))},\n",
       " 'b': ParamShape(shape=(10, 3))}"
      ]
     },
     "execution_count": 11,
     "metadata": {},
     "output_type": "execute_result"
    }
   ],
   "source": [
    "n.broadcast_shape_"
   ]
  },
  {
   "cell_type": "code",
   "execution_count": 6,
   "metadata": {},
   "outputs": [
    {
     "data": {
      "text/plain": [
       "(10, 1)"
      ]
     },
     "execution_count": 6,
     "metadata": {},
     "output_type": "execute_result"
    }
   ],
   "source": [
    "jtu.tree_leaves(n.broadcast_shapes(), is_leaf=lambda x: not isinstance(x, fb.ParamShape))[0].val.shape"
   ]
  },
  {
   "cell_type": "code",
   "execution_count": 5,
   "metadata": {},
   "outputs": [],
   "source": [
    "\n",
    "import jax\n",
    "import jax.random as jr\n",
    "\n",
    "key = jr.PRNGKey(0)"
   ]
  },
  {
   "cell_type": "code",
   "execution_count": 3,
   "metadata": {},
   "outputs": [
    {
     "data": {
      "text/plain": [
       "(-inf, inf)"
      ]
     },
     "execution_count": 3,
     "metadata": {},
     "output_type": "execute_result"
    }
   ],
   "source": [
    "fb.domain(n)"
   ]
  },
  {
   "cell_type": "code",
   "execution_count": 38,
   "metadata": {},
   "outputs": [
    {
     "data": {
      "text/plain": [
       "PyTreeDef(CustomNode(DistributionParam[('val',), (), ()], [*]))"
      ]
     },
     "execution_count": 38,
     "metadata": {},
     "output_type": "execute_result"
    }
   ],
   "source": []
  },
  {
   "cell_type": "code",
   "execution_count": null,
   "metadata": {},
   "outputs": [],
   "source": []
  },
  {
   "cell_type": "code",
   "execution_count": 17,
   "metadata": {},
   "outputs": [
    {
     "data": {
      "text/plain": [
       "[(10,), (10, 2), (10, 3)]"
      ]
     },
     "execution_count": 17,
     "metadata": {},
     "output_type": "execute_result"
    }
   ],
   "source": [
    "treedef.flatten_up_to(n.broadcast_shapes())"
   ]
  },
  {
   "cell_type": "code",
   "execution_count": 23,
   "metadata": {},
   "outputs": [
    {
     "data": {
      "text/plain": [
       "{'a': {'c': Array([[-0.9189385, -0.9189385, -0.9189385, -0.9189385, -0.9189385,\n",
       "          -0.9189385, -0.9189385, -0.9189385, -0.9189385, -0.9189385],\n",
       "         [-0.9189385, -0.9189385, -0.9189385, -0.9189385, -0.9189385,\n",
       "          -0.9189385, -0.9189385, -0.9189385, -0.9189385, -0.9189385],\n",
       "         [-0.9189385, -0.9189385, -0.9189385, -0.9189385, -0.9189385,\n",
       "          -0.9189385, -0.9189385, -0.9189385, -0.9189385, -0.9189385],\n",
       "         [-0.9189385, -0.9189385, -0.9189385, -0.9189385, -0.9189385,\n",
       "          -0.9189385, -0.9189385, -0.9189385, -0.9189385, -0.9189385],\n",
       "         [-0.9189385, -0.9189385, -0.9189385, -0.9189385, -0.9189385,\n",
       "          -0.9189385, -0.9189385, -0.9189385, -0.9189385, -0.9189385],\n",
       "         [-0.9189385, -0.9189385, -0.9189385, -0.9189385, -0.9189385,\n",
       "          -0.9189385, -0.9189385, -0.9189385, -0.9189385, -0.9189385],\n",
       "         [-0.9189385, -0.9189385, -0.9189385, -0.9189385, -0.9189385,\n",
       "          -0.9189385, -0.9189385, -0.9189385, -0.9189385, -0.9189385],\n",
       "         [-0.9189385, -0.9189385, -0.9189385, -0.9189385, -0.9189385,\n",
       "          -0.9189385, -0.9189385, -0.9189385, -0.9189385, -0.9189385],\n",
       "         [-0.9189385, -0.9189385, -0.9189385, -0.9189385, -0.9189385,\n",
       "          -0.9189385, -0.9189385, -0.9189385, -0.9189385, -0.9189385],\n",
       "         [-0.9189385, -0.9189385, -0.9189385, -0.9189385, -0.9189385,\n",
       "          -0.9189385, -0.9189385, -0.9189385, -0.9189385, -0.9189385]],      dtype=float32),\n",
       "  'd': Array([[[-0.9189385, -0.9189385],\n",
       "          [-0.9189385, -0.9189385],\n",
       "          [-0.9189385, -0.9189385],\n",
       "          [-0.9189385, -0.9189385],\n",
       "          [-0.9189385, -0.9189385],\n",
       "          [-0.9189385, -0.9189385],\n",
       "          [-0.9189385, -0.9189385],\n",
       "          [-0.9189385, -0.9189385],\n",
       "          [-0.9189385, -0.9189385],\n",
       "          [-0.9189385, -0.9189385]],\n",
       "  \n",
       "         [[-0.9189385, -0.9189385],\n",
       "          [-0.9189385, -0.9189385],\n",
       "          [-0.9189385, -0.9189385],\n",
       "          [-0.9189385, -0.9189385],\n",
       "          [-0.9189385, -0.9189385],\n",
       "          [-0.9189385, -0.9189385],\n",
       "          [-0.9189385, -0.9189385],\n",
       "          [-0.9189385, -0.9189385],\n",
       "          [-0.9189385, -0.9189385],\n",
       "          [-0.9189385, -0.9189385]],\n",
       "  \n",
       "         [[-0.9189385, -0.9189385],\n",
       "          [-0.9189385, -0.9189385],\n",
       "          [-0.9189385, -0.9189385],\n",
       "          [-0.9189385, -0.9189385],\n",
       "          [-0.9189385, -0.9189385],\n",
       "          [-0.9189385, -0.9189385],\n",
       "          [-0.9189385, -0.9189385],\n",
       "          [-0.9189385, -0.9189385],\n",
       "          [-0.9189385, -0.9189385],\n",
       "          [-0.9189385, -0.9189385]],\n",
       "  \n",
       "         [[-0.9189385, -0.9189385],\n",
       "          [-0.9189385, -0.9189385],\n",
       "          [-0.9189385, -0.9189385],\n",
       "          [-0.9189385, -0.9189385],\n",
       "          [-0.9189385, -0.9189385],\n",
       "          [-0.9189385, -0.9189385],\n",
       "          [-0.9189385, -0.9189385],\n",
       "          [-0.9189385, -0.9189385],\n",
       "          [-0.9189385, -0.9189385],\n",
       "          [-0.9189385, -0.9189385]],\n",
       "  \n",
       "         [[-0.9189385, -0.9189385],\n",
       "          [-0.9189385, -0.9189385],\n",
       "          [-0.9189385, -0.9189385],\n",
       "          [-0.9189385, -0.9189385],\n",
       "          [-0.9189385, -0.9189385],\n",
       "          [-0.9189385, -0.9189385],\n",
       "          [-0.9189385, -0.9189385],\n",
       "          [-0.9189385, -0.9189385],\n",
       "          [-0.9189385, -0.9189385],\n",
       "          [-0.9189385, -0.9189385]],\n",
       "  \n",
       "         [[-0.9189385, -0.9189385],\n",
       "          [-0.9189385, -0.9189385],\n",
       "          [-0.9189385, -0.9189385],\n",
       "          [-0.9189385, -0.9189385],\n",
       "          [-0.9189385, -0.9189385],\n",
       "          [-0.9189385, -0.9189385],\n",
       "          [-0.9189385, -0.9189385],\n",
       "          [-0.9189385, -0.9189385],\n",
       "          [-0.9189385, -0.9189385],\n",
       "          [-0.9189385, -0.9189385]],\n",
       "  \n",
       "         [[-0.9189385, -0.9189385],\n",
       "          [-0.9189385, -0.9189385],\n",
       "          [-0.9189385, -0.9189385],\n",
       "          [-0.9189385, -0.9189385],\n",
       "          [-0.9189385, -0.9189385],\n",
       "          [-0.9189385, -0.9189385],\n",
       "          [-0.9189385, -0.9189385],\n",
       "          [-0.9189385, -0.9189385],\n",
       "          [-0.9189385, -0.9189385],\n",
       "          [-0.9189385, -0.9189385]],\n",
       "  \n",
       "         [[-0.9189385, -0.9189385],\n",
       "          [-0.9189385, -0.9189385],\n",
       "          [-0.9189385, -0.9189385],\n",
       "          [-0.9189385, -0.9189385],\n",
       "          [-0.9189385, -0.9189385],\n",
       "          [-0.9189385, -0.9189385],\n",
       "          [-0.9189385, -0.9189385],\n",
       "          [-0.9189385, -0.9189385],\n",
       "          [-0.9189385, -0.9189385],\n",
       "          [-0.9189385, -0.9189385]],\n",
       "  \n",
       "         [[-0.9189385, -0.9189385],\n",
       "          [-0.9189385, -0.9189385],\n",
       "          [-0.9189385, -0.9189385],\n",
       "          [-0.9189385, -0.9189385],\n",
       "          [-0.9189385, -0.9189385],\n",
       "          [-0.9189385, -0.9189385],\n",
       "          [-0.9189385, -0.9189385],\n",
       "          [-0.9189385, -0.9189385],\n",
       "          [-0.9189385, -0.9189385],\n",
       "          [-0.9189385, -0.9189385]],\n",
       "  \n",
       "         [[-0.9189385, -0.9189385],\n",
       "          [-0.9189385, -0.9189385],\n",
       "          [-0.9189385, -0.9189385],\n",
       "          [-0.9189385, -0.9189385],\n",
       "          [-0.9189385, -0.9189385],\n",
       "          [-0.9189385, -0.9189385],\n",
       "          [-0.9189385, -0.9189385],\n",
       "          [-0.9189385, -0.9189385],\n",
       "          [-0.9189385, -0.9189385],\n",
       "          [-0.9189385, -0.9189385]]], dtype=float32)},\n",
       " 'b': Array([[[-0.9189385, -0.9189385, -0.9189385],\n",
       "         [-0.9189385, -0.9189385, -0.9189385],\n",
       "         [-0.9189385, -0.9189385, -0.9189385],\n",
       "         [-0.9189385, -0.9189385, -0.9189385],\n",
       "         [-0.9189385, -0.9189385, -0.9189385],\n",
       "         [-0.9189385, -0.9189385, -0.9189385],\n",
       "         [-0.9189385, -0.9189385, -0.9189385],\n",
       "         [-0.9189385, -0.9189385, -0.9189385],\n",
       "         [-0.9189385, -0.9189385, -0.9189385],\n",
       "         [-0.9189385, -0.9189385, -0.9189385]],\n",
       " \n",
       "        [[-0.9189385, -0.9189385, -0.9189385],\n",
       "         [-0.9189385, -0.9189385, -0.9189385],\n",
       "         [-0.9189385, -0.9189385, -0.9189385],\n",
       "         [-0.9189385, -0.9189385, -0.9189385],\n",
       "         [-0.9189385, -0.9189385, -0.9189385],\n",
       "         [-0.9189385, -0.9189385, -0.9189385],\n",
       "         [-0.9189385, -0.9189385, -0.9189385],\n",
       "         [-0.9189385, -0.9189385, -0.9189385],\n",
       "         [-0.9189385, -0.9189385, -0.9189385],\n",
       "         [-0.9189385, -0.9189385, -0.9189385]],\n",
       " \n",
       "        [[-0.9189385, -0.9189385, -0.9189385],\n",
       "         [-0.9189385, -0.9189385, -0.9189385],\n",
       "         [-0.9189385, -0.9189385, -0.9189385],\n",
       "         [-0.9189385, -0.9189385, -0.9189385],\n",
       "         [-0.9189385, -0.9189385, -0.9189385],\n",
       "         [-0.9189385, -0.9189385, -0.9189385],\n",
       "         [-0.9189385, -0.9189385, -0.9189385],\n",
       "         [-0.9189385, -0.9189385, -0.9189385],\n",
       "         [-0.9189385, -0.9189385, -0.9189385],\n",
       "         [-0.9189385, -0.9189385, -0.9189385]],\n",
       " \n",
       "        [[-0.9189385, -0.9189385, -0.9189385],\n",
       "         [-0.9189385, -0.9189385, -0.9189385],\n",
       "         [-0.9189385, -0.9189385, -0.9189385],\n",
       "         [-0.9189385, -0.9189385, -0.9189385],\n",
       "         [-0.9189385, -0.9189385, -0.9189385],\n",
       "         [-0.9189385, -0.9189385, -0.9189385],\n",
       "         [-0.9189385, -0.9189385, -0.9189385],\n",
       "         [-0.9189385, -0.9189385, -0.9189385],\n",
       "         [-0.9189385, -0.9189385, -0.9189385],\n",
       "         [-0.9189385, -0.9189385, -0.9189385]],\n",
       " \n",
       "        [[-0.9189385, -0.9189385, -0.9189385],\n",
       "         [-0.9189385, -0.9189385, -0.9189385],\n",
       "         [-0.9189385, -0.9189385, -0.9189385],\n",
       "         [-0.9189385, -0.9189385, -0.9189385],\n",
       "         [-0.9189385, -0.9189385, -0.9189385],\n",
       "         [-0.9189385, -0.9189385, -0.9189385],\n",
       "         [-0.9189385, -0.9189385, -0.9189385],\n",
       "         [-0.9189385, -0.9189385, -0.9189385],\n",
       "         [-0.9189385, -0.9189385, -0.9189385],\n",
       "         [-0.9189385, -0.9189385, -0.9189385]],\n",
       " \n",
       "        [[-0.9189385, -0.9189385, -0.9189385],\n",
       "         [-0.9189385, -0.9189385, -0.9189385],\n",
       "         [-0.9189385, -0.9189385, -0.9189385],\n",
       "         [-0.9189385, -0.9189385, -0.9189385],\n",
       "         [-0.9189385, -0.9189385, -0.9189385],\n",
       "         [-0.9189385, -0.9189385, -0.9189385],\n",
       "         [-0.9189385, -0.9189385, -0.9189385],\n",
       "         [-0.9189385, -0.9189385, -0.9189385],\n",
       "         [-0.9189385, -0.9189385, -0.9189385],\n",
       "         [-0.9189385, -0.9189385, -0.9189385]],\n",
       " \n",
       "        [[-0.9189385, -0.9189385, -0.9189385],\n",
       "         [-0.9189385, -0.9189385, -0.9189385],\n",
       "         [-0.9189385, -0.9189385, -0.9189385],\n",
       "         [-0.9189385, -0.9189385, -0.9189385],\n",
       "         [-0.9189385, -0.9189385, -0.9189385],\n",
       "         [-0.9189385, -0.9189385, -0.9189385],\n",
       "         [-0.9189385, -0.9189385, -0.9189385],\n",
       "         [-0.9189385, -0.9189385, -0.9189385],\n",
       "         [-0.9189385, -0.9189385, -0.9189385],\n",
       "         [-0.9189385, -0.9189385, -0.9189385]],\n",
       " \n",
       "        [[-0.9189385, -0.9189385, -0.9189385],\n",
       "         [-0.9189385, -0.9189385, -0.9189385],\n",
       "         [-0.9189385, -0.9189385, -0.9189385],\n",
       "         [-0.9189385, -0.9189385, -0.9189385],\n",
       "         [-0.9189385, -0.9189385, -0.9189385],\n",
       "         [-0.9189385, -0.9189385, -0.9189385],\n",
       "         [-0.9189385, -0.9189385, -0.9189385],\n",
       "         [-0.9189385, -0.9189385, -0.9189385],\n",
       "         [-0.9189385, -0.9189385, -0.9189385],\n",
       "         [-0.9189385, -0.9189385, -0.9189385]],\n",
       " \n",
       "        [[-0.9189385, -0.9189385, -0.9189385],\n",
       "         [-0.9189385, -0.9189385, -0.9189385],\n",
       "         [-0.9189385, -0.9189385, -0.9189385],\n",
       "         [-0.9189385, -0.9189385, -0.9189385],\n",
       "         [-0.9189385, -0.9189385, -0.9189385],\n",
       "         [-0.9189385, -0.9189385, -0.9189385],\n",
       "         [-0.9189385, -0.9189385, -0.9189385],\n",
       "         [-0.9189385, -0.9189385, -0.9189385],\n",
       "         [-0.9189385, -0.9189385, -0.9189385],\n",
       "         [-0.9189385, -0.9189385, -0.9189385]],\n",
       " \n",
       "        [[-0.9189385, -0.9189385, -0.9189385],\n",
       "         [-0.9189385, -0.9189385, -0.9189385],\n",
       "         [-0.9189385, -0.9189385, -0.9189385],\n",
       "         [-0.9189385, -0.9189385, -0.9189385],\n",
       "         [-0.9189385, -0.9189385, -0.9189385],\n",
       "         [-0.9189385, -0.9189385, -0.9189385],\n",
       "         [-0.9189385, -0.9189385, -0.9189385],\n",
       "         [-0.9189385, -0.9189385, -0.9189385],\n",
       "         [-0.9189385, -0.9189385, -0.9189385],\n",
       "         [-0.9189385, -0.9189385, -0.9189385]]], dtype=float32)}"
      ]
     },
     "execution_count": 23,
     "metadata": {},
     "output_type": "execute_result"
    }
   ],
   "source": [
    "eqx.filter_vmap(fb.logpdf, in_axes=(None, 0))(n, jnp.ones((10, 1)))"
   ]
  },
  {
   "cell_type": "code",
   "execution_count": 11,
   "metadata": {},
   "outputs": [
    {
     "data": {
      "text/plain": [
       "Array([-1.2], dtype=float32, weak_type=True)"
      ]
     },
     "execution_count": 11,
     "metadata": {},
     "output_type": "execute_result"
    }
   ],
   "source": [
    "fb.kurtois(n)"
   ]
  },
  {
   "cell_type": "code",
   "execution_count": 12,
   "metadata": {},
   "outputs": [],
   "source": [
    "n2 = fb.Normal(1.0, 2.0)"
   ]
  },
  {
   "cell_type": "code",
   "execution_count": 13,
   "metadata": {},
   "outputs": [
    {
     "data": {
      "text/plain": [
       "Array(4., dtype=float32)"
      ]
     },
     "execution_count": 13,
     "metadata": {},
     "output_type": "execute_result"
    }
   ],
   "source": [
    "fb.variance(n2)"
   ]
  },
  {
   "cell_type": "code",
   "execution_count": 14,
   "metadata": {},
   "outputs": [
    {
     "data": {
      "text/plain": [
       "DistributionParam(val=ParamShape(shape=(10, 2)))"
      ]
     },
     "execution_count": 14,
     "metadata": {},
     "output_type": "execute_result"
    }
   ],
   "source": [
    "from fenbux import Normal\n",
    "n = Normal(jnp.ones(2), jnp.ones((10, 2)))\n",
    "n.broadcast_shapes()"
   ]
  },
  {
   "cell_type": "code",
   "execution_count": 18,
   "metadata": {},
   "outputs": [
    {
     "data": {
      "text/plain": [
       "Normal(\n",
       "  _mean=DistributionParam(val=f32[10,2]),\n",
       "  _sd=DistributionParam(val=f32[10,2])\n",
       ")"
      ]
     },
     "execution_count": 18,
     "metadata": {},
     "output_type": "execute_result"
    }
   ],
   "source": [
    "n.broadcast_params()"
   ]
  }
 ],
 "metadata": {
  "kernelspec": {
   "display_name": "fenbux",
   "language": "python",
   "name": "python3"
  },
  "language_info": {
   "codemirror_mode": {
    "name": "ipython",
    "version": 3
   },
   "file_extension": ".py",
   "mimetype": "text/x-python",
   "name": "python",
   "nbconvert_exporter": "python",
   "pygments_lexer": "ipython3",
   "version": "3.11.3"
  },
  "orig_nbformat": 4
 },
 "nbformat": 4,
 "nbformat_minor": 2
}
